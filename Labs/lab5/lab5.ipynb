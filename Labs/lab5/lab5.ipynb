{
 "cells": [
  {
   "cell_type": "markdown",
   "metadata": {},
   "source": [
    "# Quesion 1: Latent Factor Model\n",
    "\n",
    "You are required to implement **latent factor model based on SGD**."
   ]
  },
  {
   "cell_type": "markdown",
   "metadata": {
    "collapsed": true
   },
   "source": [
    "## Input matrix\n",
    "The item-user matrix is formed as a sparse matrix, which corresponds to a 2-D array. Each row is formed as ```[item_id, user_id, rank]```. ```item_id``` and ```user_id``` all start from 0, and the number of items and users are pre-defined. For example:"
   ]
  },
  {
   "cell_type": "code",
   "execution_count": 1,
   "metadata": {
    "collapsed": false,
    "scrolled": true
   },
   "outputs": [],
   "source": [
    "import numpy as np\n",
    "\n",
    "num_item = 4\n",
    "num_user = 4\n",
    "matrix_R = np.loadtxt('asset/data.txt', dtype = int)"
   ]
  },
  {
   "cell_type": "markdown",
   "metadata": {},
   "source": [
    "The initial matrix Q and P are randomly generated with pre-defined number of factors."
   ]
  },
  {
   "cell_type": "code",
   "execution_count": 2,
   "metadata": {
    "collapsed": false
   },
   "outputs": [],
   "source": [
    "ran_generator = np.random.RandomState(24)\n",
    "num_fac = 9\n",
    "\n",
    "matrix_Q = ran_generator.random_sample((num_item, num_fac))\n",
    "matrix_P = ran_generator.random_sample((num_user, num_fac))"
   ]
  },
  {
   "cell_type": "code",
   "execution_count": 3,
   "metadata": {
    "collapsed": false,
    "scrolled": true
   },
   "outputs": [
    {
     "name": "stdout",
     "output_type": "stream",
     "text": [
      "========== Q ==========\n",
      "0.960017 0.699512 0.999867 0.220067 0.361056 0.739841 0.996456 0.316347 0.136545\n",
      "0.383980 0.320519 0.366415 0.709652 0.900142 0.534115 0.247294 0.671807 0.561729\n",
      "0.542560 0.893448 0.842780 0.306013 0.631170 0.680239 0.970428 0.893567 0.942426\n",
      "0.642225 0.614648 0.227683 0.486032 0.807219 0.844220 0.534681 0.757798 0.499677\n",
      "========== P^T ==========\n",
      "0.850328 0.556883 0.699489 0.031439\n",
      "0.619697 0.941419 0.097525 0.952810\n",
      "0.861614 0.409259 0.573429 0.288743\n",
      "0.231697 0.736751 0.820037 0.441949\n",
      "0.402218 0.995451 0.560891 0.259022\n",
      "0.624375 0.916664 0.350762 0.596891\n",
      "0.143037 0.002023 0.543500 0.655286\n",
      "0.122798 0.971332 0.879589 0.275695\n",
      "0.416830 0.889048 0.114097 0.857972\n"
     ]
    }
   ],
   "source": [
    "def output_dense_matrix(M):\n",
    "    print('\\n'.join([' '.join(['{:.6f}'.format(item) for item in row]) for row in M]))\n",
    "    \n",
    "print('========== Q ==========')\n",
    "output_dense_matrix(matrix_Q)\n",
    "print('========== P^T ==========')\n",
    "output_dense_matrix(matrix_P.transpose())"
   ]
  },
  {
   "cell_type": "markdown",
   "metadata": {},
   "source": [
    "## Requirement\n",
    "You need to implement the ```lf()``` function in ```submission.py```, which takes the following parameters:\n",
    " * ```R```: the item-user matrix, formed as a sparse matrix\n",
    " * ```Q```: the item-factor matrix\n",
    " * ```P```: the user-factor matrix\n",
    " * ```max_iter```: the maximum time of iteration\n",
    " * ```_err```: the threshold to decide if the objective function is converged or not (i.e, the algorithm should stop when the absolute difference between current and previous values of the objective function is smaller than ```_err```)\n",
    " * ```_mu_1```: the learning rate $\\mu_1$\n",
    " * ```_mu_2```: the learning rate $\\mu_2$\n",
    " * ```_lambda_1```: the regularization parameter $\\lambda_1$\n",
    " * ```_lambda_2```: the regularization parameter $\\lambda_2$\n",
    "\n",
    "The ```lf()``` function should output the updated $Q$ and $P$."
   ]
  },
  {
   "cell_type": "markdown",
   "metadata": {},
   "source": [
    "**NOTE**: Theoratically, in each iteration, you should randomly select $r_{ij}$ from $R$. However, in this lab, for testing purpose, you just need to follow the order in the training data list (we have randomly shuffled the order in the input file) within each iteration. You should **start over from the first row** if you have reached the last element in the list while the algorithm should not terminate yet."
   ]
  },
  {
   "cell_type": "code",
   "execution_count": 4,
   "metadata": {
    "collapsed": false
   },
   "outputs": [],
   "source": [
    "def lf(R, Q, P, max_iter, _err, _mu_1, _mu_2, _lambda_1, _lambda_2):\n",
    "    pass"
   ]
  },
  {
   "cell_type": "code",
   "execution_count": 5,
   "metadata": {
    "collapsed": false,
    "scrolled": true
   },
   "outputs": [
    {
     "name": "stdout",
     "output_type": "stream",
     "text": [
      "========== Q ==========\n",
      "0.850978 0.703304 0.901079 0.139977 0.319845 0.705386 0.870876 0.229821 0.158770\n",
      "0.555405 0.766373 0.605546 0.923460 1.093558 0.868008 0.457011 0.821650 0.937622\n",
      "0.434323 0.635496 0.719376 0.137738 0.428907 0.462311 0.866352 0.689041 0.694008\n",
      "0.764093 0.620509 0.326973 0.642537 0.908116 0.898213 0.625899 0.922934 0.516952\n",
      "========== P ==========\n",
      "0.904612 0.686419 0.916643 0.356931 0.553983 0.719161 0.193111 0.241154 0.523641\n",
      "0.536944 0.846597 0.364212 0.715175 0.937039 0.862009 -0.042914 0.858067 0.770176\n",
      "0.680860 0.120985 0.470509 0.867153 0.657748 0.408667 0.503335 0.965919 0.190437\n",
      "0.144411 1.014825 0.365314 0.665105 0.523519 0.746259 0.648747 0.432262 0.984183\n"
     ]
    }
   ],
   "source": [
    "Q, P = lf(matrix_R, matrix_Q, matrix_P, 100, 0.0001, 0.01, 0.01, 0.1, 0.1)\n",
    "\n",
    "print('========== Q ==========')\n",
    "output_dense_matrix(Q)\n",
    "print('========== P ==========')\n",
    "output_dense_matrix(P)"
   ]
  },
  {
   "cell_type": "markdown",
   "metadata": {},
   "source": [
    "## Test Environment\n",
    "We have pre-installed the following modules, you can **only** use these modules and the built-in modules and functions:\n",
    "* python: 3.5.2\n",
    "* numpy: 1.12.1"
   ]
  }
 ],
 "metadata": {
  "kernelspec": {
   "display_name": "Python 3",
   "language": "python",
   "name": "python3"
  },
  "language_info": {
   "codemirror_mode": {
    "name": "ipython",
    "version": 3
   },
   "file_extension": ".py",
   "mimetype": "text/x-python",
   "name": "python",
   "nbconvert_exporter": "python",
   "pygments_lexer": "ipython3",
   "version": "3.5.2"
  }
 },
 "nbformat": 4,
 "nbformat_minor": 2
}
